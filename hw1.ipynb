{
 "cells": [
  {
   "cell_type": "markdown",
   "metadata": {
    "collapsed": true,
    "deletable": true,
    "editable": true
   },
   "source": [
    "## Affine camera calibration"
   ]
  },
  {
   "cell_type": "code",
   "execution_count": 54,
   "metadata": {
    "collapsed": false,
    "deletable": true,
    "editable": true
   },
   "outputs": [
    {
     "name": "stdout",
     "output_type": "stream",
     "text": [
      "[  5.31276507e-01  -1.80886074e-02   1.20509667e-01   1.29720641e+02\n",
      "   4.84975447e-02   5.36366401e-01  -1.02675222e-01   4.43879607e+01]\n",
      "Camera Matrix: \n",
      " [[  5.31276507e-01  -1.80886074e-02   1.20509667e-01   1.29720641e+02]\n",
      " [  4.84975447e-02   5.36366401e-01  -1.02675222e-01   4.43879607e+01]\n",
      " [  0.00000000e+00   0.00000000e+00   0.00000000e+00   1.00000000e+00]]\n",
      "\n",
      "RMS Error:  0.493849514748\n"
     ]
    }
   ],
   "source": [
    "\"\"\"CS231A Homework 1, Problem 2.\n",
    "\n",
    "DATA FORMAT\n",
    "In this problem, we provide and load the data for you. Recall that in the\n",
    "original problem statement, there exists a grid of black squares on a white\n",
    "background. We know how these black squares are setup, and thus can determine\n",
    "the locations of specific points on the grid (namely the corners). We also have\n",
    "images taken of the grid at a front image (where Z = 0) and a back image (where\n",
    "Z = 150). The data we load for you consists of three parts: real_XY,\n",
    "front_image, and back_image. For a corner (0,0), we may see it at the (137, 44)\n",
    "pixel in the front image and the (148, 22) pixel in the back image. Thus, one\n",
    "row of real_XY will contain the numpy array [0, 0], corresponding to the real\n",
    "XY location (0, 0). The matching row in front_image will contain [137, 44] and\n",
    "the matching row in back_image will contain [148, 22].\n",
    "\"\"\"\n",
    "\n",
    "import numpy as np\n",
    "\n",
    "def extend_real_coordinates(coords, z):        \n",
    "    z_extend = z * np.ones((real_XY.shape[0], 1))\n",
    "    hg_extend = np.ones((real_XY.shape[0], 1))\n",
    "    zeros = np.zeros((real_XY.shape[0], 4))\n",
    "    coords_x = np.concatenate((coords, z_extend, hg_extend, zeros), axis=1)\n",
    "    coords_y = np.concatenate((zeros, coords, z_extend, hg_extend), axis=1)\n",
    "    return np.concatenate((coords_x, coords_y), axis=0)\n",
    "\n",
    "\n",
    "def compute_camera_matrix(real_XY, front_image, back_image):\n",
    "    \"\"\"Computes camera matrix given image and real-world coordinates.\n",
    "\n",
    "    Args:\n",
    "        real_XY: Each row corresponds to an actual point on the 2D plane.\n",
    "        front_image: Each row is the pixel location in the front image (Z=0).\n",
    "        back_image: Each row is the pixel location in the back image (Z=150).\n",
    "    Returns:\n",
    "        camera_matrix: The calibrated camera matrix (3x4 matrix).\n",
    "    \"\"\"\n",
    "    \n",
    "    real_XY_front = extend_real_coordinates(real_XY, 0)\n",
    "    real_XY_back = extend_real_coordinates(real_XY, 150)\n",
    "    real_XY_complete = np.concatenate((real_XY_front, real_XY_back), axis=0)\n",
    "    \n",
    "    image_XY_complete = np.concatenate(\n",
    "        (front_image.flatten(order='F'), back_image.flatten(order='F')))\n",
    "    \n",
    "    lstsq_solution = np.linalg.lstsq(real_XY_complete, image_XY_complete)\n",
    "    camera_matrix = np.concatenate(\n",
    "        (np.reshape(lstsq_solution[0], (2, 4)), np.array([[0, 0, 0, 1]])), axis=0)\n",
    "    \n",
    "    return camera_matrix\n",
    "\n",
    "def rms_error(camera_matrix, real_XY, front_image, back_image):\n",
    "    \"\"\"Computes RMS error of points reprojected into the images.\n",
    "\n",
    "    Args:\n",
    "        camera_matrix: The camera matrix of the calibrated camera.\n",
    "        real_XY: Each row corresponds to an actual point on the 2D plane.\n",
    "        front_image: Each row is the pixel location in the front image (Z=0).\n",
    "        back_image: Each row is the pixel location in the back image (Z=150).\n",
    "    Returns:\n",
    "        rms_error: The root mean square error of reprojecting the points back\n",
    "            into the images.\n",
    "    \"\"\"\n",
    "    real_XY_front = extend_real_coordinates(real_XY, 0)\n",
    "    real_XY_back = extend_real_coordinates(real_XY, 150)\n",
    "    real_XY_complete = np.concatenate((real_XY_front, real_XY_back), axis=0)\n",
    "    \n",
    "    image_XY_complete = np.concatenate(\n",
    "        (front_image.flatten(order='F'), back_image.flatten(order='F')))\n",
    "    \n",
    "    camera_params = np.concatenate((camera_matrix[0, :], camera_matrix[1, :]), axis=0)\n",
    "    print(camera_params)\n",
    "    calculated_coords = np.dot(real_XY_complete, camera_params)\n",
    "    diff = calculated_coords - image_XY_complete\n",
    "    rms = np.dot(diff, diff) / diff.shape[0]\n",
    "    return rms\n",
    "    \n",
    "\n",
    "# Load the example coordinates setup.\n",
    "real_XY = np.load('real_XY.npy')\n",
    "front_image = np.load('front_image.npy')\n",
    "back_image = np.load('back_image.npy')\n",
    "\n",
    "camera_matrix = compute_camera_matrix(real_XY, front_image, back_image)\n",
    "rmse = rms_error(camera_matrix, real_XY, front_image, back_image)\n",
    "\n",
    "print (\"Camera Matrix: \\n\", camera_matrix)\n",
    "print (\"\")\n",
    "print (\"RMS Error: \", rmse)\n",
    "\n"
   ]
  },
  {
   "cell_type": "code",
   "execution_count": null,
   "metadata": {
    "collapsed": true,
    "deletable": true,
    "editable": true
   },
   "outputs": [],
   "source": []
  },
  {
   "cell_type": "code",
   "execution_count": null,
   "metadata": {
    "collapsed": true,
    "deletable": true,
    "editable": true
   },
   "outputs": [],
   "source": []
  }
 ],
 "metadata": {
  "kernelspec": {
   "display_name": "Python 3",
   "language": "python",
   "name": "python3"
  },
  "language_info": {
   "codemirror_mode": {
    "name": "ipython",
    "version": 3
   },
   "file_extension": ".py",
   "mimetype": "text/x-python",
   "name": "python",
   "nbconvert_exporter": "python",
   "pygments_lexer": "ipython3",
   "version": "3.5.2+"
  }
 },
 "nbformat": 4,
 "nbformat_minor": 2
}
