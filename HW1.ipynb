{
 "cells": [
  {
   "cell_type": "markdown",
   "metadata": {
    "deletable": true,
    "editable": true
   },
   "source": [
    "##  2. Basic Matrix/Vector Manipulation"
   ]
  },
  {
   "cell_type": "code",
   "execution_count": 2,
   "metadata": {
    "collapsed": false,
    "deletable": true,
    "editable": true
   },
   "outputs": [
    {
     "name": "stdout",
     "output_type": "stream",
     "text": [
      "(b) = 1\n",
      "(c) = [-1  2  0]\n",
      "(d) = [ 3  9 15  2]\n",
      "(e) = \n",
      " [[1 2 0]\n",
      " [4 5 0]\n",
      " [7 8 0]\n",
      " [0 2 0]]\n",
      "(d) = [0 0 0 0 0 1 2 2 4 5 7 8]\n"
     ]
    },
    {
     "data": {
      "image/png": "[encoded data removed]",
      "text/plain": [
       "<matplotlib.figure.Figure at 0x7f643ee8add0>"
      ]
     },
     "metadata": {},
     "output_type": "display_data"
    }
   ],
   "source": [
    "import numpy as np\n",
    "import numpy.matlib as matlib\n",
    "import matplotlib.pyplot as plt\n",
    "\n",
    "%matplotlib inline\n",
    "\n",
    "# ===== Problem 2a =====\n",
    "# Define Matrix M and Vectors a,b,c in Python with NumPy\n",
    "\n",
    "M, a, b, c = None, None, None, None\n",
    "\n",
    "# BEGIN YOUR CODE HERE\n",
    "\n",
    "M = np.array([[1, 2, 3], [4, 5, 6], [7, 8, 9], [0, 2, 2]])\n",
    "a = np.array([1, 1, 0])\n",
    "b = np.array([-1, 2, 5])\n",
    "c = np.array([0, 2, 3, 2])\n",
    "\n",
    "# END YOUR CODE HERE\n",
    "\n",
    "# ===== Problem 2b =====\n",
    "# Find the dot product of vectors a and b, save the value to aDotb\n",
    "\n",
    "aDotb = None\n",
    "\n",
    "# BEGIN YOUR CODE HERE\n",
    "\n",
    "aDotb = np.dot(a, b)\n",
    "print('(b) = %s' % aDotb)\n",
    "\n",
    "# END YOUR CODE HERE\n",
    "\n",
    "# ===== Problem 2c =====\n",
    "# Find the element-wise product of a and b\n",
    "\n",
    "# BEGIN YOUR CODE HERE\n",
    "print ('(c) = %s' % (a * b))\n",
    "# END YOUR CODE HERE\n",
    "\n",
    "# ===== Problem 2d =====\n",
    "# Find (a^T b)Ma\n",
    "\n",
    "# BEGIN YOUR CODE HERE\n",
    "print ('(d) = %s' % (np.dot(np.dot(np.dot(a,b), M), a)))\n",
    "# END YOUR CODE HERE\n",
    "\n",
    "# ===== Problem 2e =====\n",
    "# Without using a loop, multiply each row of M element-wise by a.\n",
    "# Hint: The function repmat() may come in handy.\n",
    "\n",
    "newM = None\n",
    "\n",
    "# BEGIN YOUR CODE HERE\n",
    "newM = M * matlib.repmat(a, M.shape[0], 1)\n",
    "print ('(e) = \\n %s' % newM)\n",
    "# END YOUR CODE HERE\n",
    "\n",
    "# ===== Problem 2f =====\n",
    "# Without using a loop, sort all of the values \n",
    "# of M in increasing order and plot them.\n",
    "# Note we want you to use newM from e.\n",
    "\n",
    "# BEGIN YOUR CODE HERE\n",
    "newM_sorted = np.sort(newM, None)\n",
    "print ('(d) = %s' % newM_sorted)\n",
    "\n",
    "plt.xlabel('Index')\n",
    "plt.ylabel('Value')\n",
    "plt.plot(newM_sorted, 'ro')\n",
    "plt.show()\n",
    "# END YOUR CODE HERE\n",
    "\n",
    "\n",
    "\n",
    "\n",
    "\n",
    "\n",
    "\n",
    "\n",
    "\n"
   ]
  },
  {
   "cell_type": "markdown",
   "metadata": {
    "deletable": true,
    "editable": true
   },
   "source": [
    " ## 3. Basic Image Manipulations"
   ]
  },
  {
   "cell_type": "code",
   "execution_count": 5,
   "metadata": {
    "collapsed": false,
    "deletable": true,
    "editable": true
   },
   "outputs": [],
   "source": [
    "import numpy as np\n",
    "import matplotlib.pyplot as plt\n",
    "from scipy import misc\n",
    "\n",
    "\n",
    "# ===== Problem 3a =====\n",
    "# Read in the images, image1.jpg and image2.jpg, as color images.\n",
    "\n",
    "img1, img2 = None, None\n",
    "\n",
    "# BEGIN YOUR CODE HERE\n",
    "\n",
    "img1 = misc.imread('image1.jpg')\n",
    "img2 = misc.imread('image2.jpg')\n",
    "\n",
    "# END YOUR CODE HERE\n",
    "\n",
    "# ===== Problem 3b =====\n",
    "# Convert the images to double precision and rescale them\n",
    "# to stretch from minimum value 0 to maximum value 1.\n",
    "\n",
    "# BEGIN YOUR CODE HERE\n",
    "\n",
    "\n",
    "\n",
    "# END YOUR CODE HERE\n",
    "\n",
    "# ===== Problem 3c =====\n",
    "# Add the images together and re-normalize them \n",
    "# to have minimum value 0 and maximum value 1. \n",
    "# Display this image.\n",
    "\n",
    "# BEGIN YOUR CODE HERE\n",
    "\n",
    "# END YOUR CODE HERE\n",
    "\n",
    "# ===== Problem 3d =====\n",
    "# Create a new image such that the left half of \n",
    "# the image is the left half of image1 and the \n",
    "# right half of the image is the right half of image2.\n",
    "\n",
    "newImage1 = None\n",
    "\n",
    "# BEGIN YOUR CODE HERE\n",
    "\n",
    "# END YOUR CODE HERE\n",
    "\n",
    "# ===== Problem 3e =====\n",
    "# Using a for loop, create a new image such that every odd \n",
    "# numbered row is the corresponding row from image1 and the \n",
    "# every even row is the corresponding row from image2. \n",
    "# Hint: Remember that indices start at 0 and not 1 in Python.\n",
    "\n",
    "newImage2 = None\n",
    "\n",
    "# BEGIN YOUR CODE HERE\n",
    "\n",
    "# END YOUR CODE HERE\n",
    "\n",
    "# ===== Problem 3f =====\n",
    "# Accomplish the same task as part e without using a for-loop.\n",
    "# The functions reshape and repmat may be helpful here.\n",
    "\n",
    "newImage3 = None\n",
    "\n",
    "# BEGIN YOUR CODE HERE\n",
    "\n",
    "# END YOUR CODE HERE\n",
    "\n",
    "# ===== Problem 3g =====\n",
    "# Convert the result from part f to a grayscale image. \n",
    "# Display the grayscale image with a title.\n",
    "\n",
    "# BEGIN YOUR CODE HERE\n",
    "\n",
    "# END YOUR CODE HERE\n"
   ]
  },
  {
   "cell_type": "code",
   "execution_count": null,
   "metadata": {
    "collapsed": true
   },
   "outputs": [],
   "source": []
  }
 ],
 "metadata": {
  "kernelspec": {
   "display_name": "Python 2",
   "language": "python",
   "name": "python2"
  },
  "language_info": {
   "codemirror_mode": {
    "name": "ipython",
    "version": 2
   },
   "file_extension": ".py",
   "mimetype": "text/x-python",
   "name": "python",
   "nbconvert_exporter": "python",
   "pygments_lexer": "ipython2",
   "version": "2.7.12"
  }
 },
 "nbformat": 4,
 "nbformat_minor": 2
}
